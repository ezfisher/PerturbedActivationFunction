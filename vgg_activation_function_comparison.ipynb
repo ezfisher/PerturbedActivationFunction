{
 "cells": [
  {
   "cell_type": "code",
   "execution_count": 1,
   "metadata": {},
   "outputs": [],
   "source": [
    "import numpy as np\n",
    "import matplotlib.pyplot as plt\n",
    "import cv2 as cv\n",
    "import os\n",
    "import glob\n",
    "\n",
    "import torch\n",
    "import torchvision\n",
    "from torch import nn, optim\n",
    "import torch.nn.functional as F\n",
    "import torch.utils.data as data\n",
    "import torchvision.transforms as T\n",
    "from torchvision.models import resnet50\n",
    "from torchsummary import summary"
   ]
  },
  {
   "cell_type": "code",
   "execution_count": 2,
   "metadata": {},
   "outputs": [
    {
     "name": "stdout",
     "output_type": "stream",
     "text": [
      "5\n",
      "3670\n"
     ]
    }
   ],
   "source": [
    "dataset_path = '/home/hari/data/Personal/flower_photos'\n",
    "classes = glob.glob(os.path.join(dataset_path, '**'))\n",
    "images = glob.glob(os.path.join(dataset_path, '**/*.jpg'))\n",
    "print(len(classes))\n",
    "print(len(images))"
   ]
  },
  {
   "cell_type": "code",
   "execution_count": 3,
   "metadata": {},
   "outputs": [
    {
     "name": "stdout",
     "output_type": "stream",
     "text": [
      "641\n",
      "699\n",
      "633\n",
      "799\n",
      "898\n"
     ]
    }
   ],
   "source": [
    "for c in classes:\n",
    "    images = glob.glob(os.path.join(dataset_path, c, '*.jpg'))\n",
    "    print(len(images))"
   ]
  },
  {
   "cell_type": "code",
   "execution_count": 4,
   "metadata": {},
   "outputs": [],
   "source": [
    "transforms = T.Compose([\n",
    "    T.ToTensor(),\n",
    "    T.Resize((224, 224), antialias=False),\n",
    "])"
   ]
  },
  {
   "cell_type": "code",
   "execution_count": 5,
   "metadata": {},
   "outputs": [],
   "source": [
    "class Dataset(data.Dataset):\n",
    "    def __init__(self, root_directory, transforms=None, train=True):\n",
    "        self.root_directory = root_directory\n",
    "        self.transforms = transforms\n",
    "        self.train_size = 0.8\n",
    "        self.train = train\n",
    "        self.images = self.__train_validation_split__()\n",
    "        classes = [c.split('/')[-1] for c in sorted(glob.glob(os.path.join(root_directory, '**')))]\n",
    "        self.class_dict = {c : i for i, c in enumerate(classes)}\n",
    "\n",
    "    def __train_validation_split__(self):\n",
    "        images = glob.glob(os.path.join(self.root_directory, '**/*.jpg'))\n",
    "        _size = int(len(images) * self.train_size) if self.train else int(len(images) * (1 - self.train_size))\n",
    "        indices = np.random.choice(len(images), _size, replace=False)\n",
    "        images = np.array(images)[indices]\n",
    "        return images\n",
    "\n",
    "    def __class_tonumeric__(self, label):\n",
    "        return self.class_dict[label]\n",
    "    \n",
    "    def __getitem__(self, index):\n",
    "        path = self.images[index]\n",
    "        label = path.split('/')[-2]\n",
    "        label = self.__class_tonumeric__(label)\n",
    "        image = cv.imread(path)\n",
    "        image = cv.cvtColor(image, cv.COLOR_BGR2RGB)\n",
    "        if self.transforms is not None:\n",
    "            image = self.transforms(image)\n",
    "        return image, label\n",
    "    \n",
    "    def __len__(self):\n",
    "        return len(self.images)"
   ]
  },
  {
   "cell_type": "code",
   "execution_count": 6,
   "metadata": {},
   "outputs": [
    {
     "name": "stdout",
     "output_type": "stream",
     "text": [
      "torch.Size([4, 3, 224, 224]) torch.Size([4])\n"
     ]
    }
   ],
   "source": [
    "dataset = Dataset(root_directory=dataset_path, transforms=transforms, train=True)\n",
    "validset = Dataset(root_directory=dataset_path, transforms=transforms, train=False)\n",
    "dataloader = data.DataLoader(dataset, batch_size=4, shuffle=True, drop_last=True)\n",
    "validloader = data.DataLoader(validset, batch_size=1, shuffle=True, drop_last=True)\n",
    "X, y = next(iter(dataloader))\n",
    "print(X.shape, y.shape)"
   ]
  },
  {
   "cell_type": "code",
   "execution_count": 7,
   "metadata": {},
   "outputs": [],
   "source": [
    "class LearnedReLU(nn.Module):\n",
    "    def __init__(self, learning_epochs):\n",
    "        super().__init__()\n",
    "        self.learning_epochs = learning_epochs\n",
    "        positive_coefficient = torch.normal(torch.ones(1), torch.ones(1))\n",
    "        negative_coefficient = torch.normal(torch.zeros(1), torch.ones(1))\n",
    "        self.positive_coefficient = nn.Parameter(positive_coefficient)\n",
    "        self.negative_coefficient = nn.Parameter(negative_coefficient)\n",
    "\n",
    "    def forward(self, X, epoch=None):\n",
    "        _p_copy = self.positive_coefficient.data.clone()\n",
    "        _n_copy = self.negative_coefficient.data.clone()\n",
    "        if epoch is None or epoch >= self.learning_epochs:\n",
    "            _p_copy, _n_copy = nn.Parameter(torch.ones(1)), nn.Parameter(torch.zeros(1))\n",
    "        out = torch.where(X>=0, _p_copy * X, _n_copy * X)\n",
    "        return out\n",
    "\n",
    "class PerturbedReLU(nn.Module):\n",
    "    def __init__(self, epsilon=0.01):\n",
    "        super().__init__()\n",
    "        self.epsilon = epsilon\n",
    "    \n",
    "    def forward(self, X):\n",
    "        activated = F.relu(X)\n",
    "        perturbation = torch.normal(torch.ones(X.shape)*self.epsilon, torch.ones(X.shape)*self.epsilon)\n",
    "        return activated + perturbation"
   ]
  },
  {
   "cell_type": "code",
   "execution_count": 8,
   "metadata": {},
   "outputs": [],
   "source": [
    "class VGG(nn.Module):\n",
    "    def __init__(self):\n",
    "        super().__init__()\n",
    "        self.conv0 = nn.Conv2d(in_channels=3, out_channels=32, kernel_size=(7, 7), stride=(1, 1), padding=(0, 0))\n",
    "        self.bn0 = nn.BatchNorm2d(num_features=self.conv0.out_channels)\n",
    "        self.conv1 = nn.Conv2d(in_channels=32, out_channels=64, kernel_size=(3, 3), stride=(1, 1), padding=(1, 1))\n",
    "        self.bn1 = nn.BatchNorm2d(num_features=self.conv1.out_channels)\n",
    "        self.conv2 = nn.Conv2d(in_channels=64, out_channels=128, kernel_size=(3, 3), stride=(1, 1), padding=(1, 1))\n",
    "        self.bn2 = nn.BatchNorm2d(num_features=self.conv2.out_channels)\n",
    "        self.conv3 = nn.Conv2d(in_channels=128, out_channels=256, kernel_size=(3, 3), stride=(1, 1), padding=(1, 1))\n",
    "        self.bn3 = nn.BatchNorm2d(num_features=self.conv3.out_channels)\n",
    "        self.conv4 = nn.Conv2d(in_channels=256, out_channels=512, kernel_size=(3, 3), stride=(1, 1), padding=(1, 1))\n",
    "        self.bn4 = nn.BatchNorm2d(num_features=self.conv4.out_channels)\n",
    "        self.conv5 = nn.Conv2d(in_channels=512, out_channels=1024, kernel_size=(3, 3), stride=(1, 1), padding=(1, 1))\n",
    "        self.bn5 = nn.BatchNorm2d(num_features=self.conv5.out_channels)\n",
    "        self.conv6 = nn.Conv2d(in_channels=1024, out_channels=2048, kernel_size=(3, 3), stride=(1, 1), padding=(1, 1))\n",
    "        self.bn6 = nn.BatchNorm2d(num_features=self.conv6.out_channels)\n",
    "        self.activation = nn.ReLU()\n",
    "        self.pool = nn.MaxPool2d((3, 3), stride=(1, 1))\n",
    "        self.flatten = nn.Flatten()\n",
    "    \n",
    "    def forward(self, X):\n",
    "        out = self.activation(self.bn0(self.conv0(X)))\n",
    "        out = self.activation(self.bn1(self.conv1(out)))\n",
    "        out = self.activation(self.bn2(self.conv2(out)))\n",
    "        out = self.pool(out)\n",
    "        out = self.activation(self.bn3(self.conv3(out)))\n",
    "        out = self.activation(self.bn4(self.conv4(out)))\n",
    "        out = self.pool(out)\n",
    "        out = self.activation(self.bn5(self.conv5(out)))\n",
    "        out = self.activation(self.bn6(self.conv6(out)))\n",
    "        out = self.pool(out)\n",
    "        out = self.flatten(out)\n",
    "        return out"
   ]
  },
  {
   "cell_type": "code",
   "execution_count": 13,
   "metadata": {},
   "outputs": [
    {
     "name": "stdout",
     "output_type": "stream",
     "text": [
      "38.72999999999999\n"
     ]
    }
   ],
   "source": [
    "def pto_balance(initial_balance=78.71, num_periods=1):\n",
    "    return initial_balance + (6.67 * num_periods)\n",
    "\n",
    "def take_pto(initial_balance, hours):\n",
    "    return initial_balance - hours\n",
    "\n",
    "mid_june_balance = pto_balance(num_periods=6)\n",
    "late_june_seattle_pto_balance = take_pto(mid_june_balance, 80)\n",
    "print(late_june_seattle_pto_balance)"
   ]
  },
  {
   "cell_type": "code",
   "execution_count": null,
   "metadata": {},
   "outputs": [],
   "source": []
  }
 ],
 "metadata": {
  "kernelspec": {
   "display_name": "base",
   "language": "python",
   "name": "python3"
  },
  "language_info": {
   "codemirror_mode": {
    "name": "ipython",
    "version": 3
   },
   "file_extension": ".py",
   "mimetype": "text/x-python",
   "name": "python",
   "nbconvert_exporter": "python",
   "pygments_lexer": "ipython3",
   "version": "3.12.2"
  }
 },
 "nbformat": 4,
 "nbformat_minor": 2
}
